{
 "cells": [
  {
   "cell_type": "code",
   "execution_count": 91,
   "metadata": {},
   "outputs": [],
   "source": [
    "import bs4\n",
    "import pandas as pd\n",
    "from urllib.request import urlopen as uReq\n",
    "from bs4 import BeautifulSoup as soup"
   ]
  },
  {
   "cell_type": "code",
   "execution_count": 92,
   "metadata": {},
   "outputs": [],
   "source": [
    "url='https://www.newegg.com/global/in-en/Video-Cards-Video-Devices/Category/ID-38'"
   ]
  },
  {
   "cell_type": "code",
   "execution_count": 93,
   "metadata": {},
   "outputs": [],
   "source": [
    "uClient =uReq(url)"
   ]
  },
  {
   "cell_type": "code",
   "execution_count": 94,
   "metadata": {},
   "outputs": [],
   "source": [
    "page_html=uClient.read()"
   ]
  },
  {
   "cell_type": "code",
   "execution_count": 95,
   "metadata": {},
   "outputs": [],
   "source": [
    "page_soup=soup(page_html,\"html.parser\")\n",
    "uClient.close()"
   ]
  },
  {
   "cell_type": "code",
   "execution_count": 96,
   "metadata": {},
   "outputs": [
    {
     "data": {
      "text/plain": [
       "<h1 class=\"page-title-text\">Video Cards &amp; Video Devices</h1>"
      ]
     },
     "execution_count": 96,
     "metadata": {},
     "output_type": "execute_result"
    }
   ],
   "source": [
    "page_soup.h1"
   ]
  },
  {
   "cell_type": "code",
   "execution_count": 97,
   "metadata": {},
   "outputs": [],
   "source": [
    "containers=page_soup.findAll(\"div\",{\"class\":\"item-container\"})"
   ]
  },
  {
   "cell_type": "code",
   "execution_count": 98,
   "metadata": {},
   "outputs": [
    {
     "data": {
      "text/plain": [
       "12"
      ]
     },
     "execution_count": 98,
     "metadata": {},
     "output_type": "execute_result"
    }
   ],
   "source": [
    "len(containers)"
   ]
  },
  {
   "cell_type": "code",
   "execution_count": 99,
   "metadata": {},
   "outputs": [
    {
     "data": {
      "text/plain": [
       "<div class=\"item-container\"><a class=\"item-img\" href=\"https://www.newegg.com/global/in-en/sapphire-radeon-rx-5700-xt-100416p8gl/p/N82E16814202349?Item=N82E16814202349\"><img alt=\"SAPPHIRE PULSE Radeon RX 5700 XT 100416P8GL 8GB 256-Bit GDDR6 PCI Express 4.0 x16 ATX Video Card\" src=\"https://c1.neweggimages.com/ProductImageCompressAll300/14-202-349-V07.jpg\" title=\"SAPPHIRE PULSE Radeon RX 5700 XT 100416P8GL 8GB 256-Bit GDDR6 PCI Express 4.0 x16 ATX Video Card\"/></a><div class=\"item-info\"><div class=\"item-branding\"><a class=\"item-brand\" href=\"https://www.newegg.com/global/in-en/Sapphire-Tech/BrandStore/ID-1561\"><img alt=\"Sapphire Tech\" src=\"https://c1.neweggimages.com/Brandimage_70x28/Brand1561.gif\" title=\"Sapphire Tech\"/></a><a class=\"item-rating\" href=\"https://www.newegg.com/global/in-en/sapphire-radeon-rx-5700-xt-100416p8gl/p/N82E16814202349?IsFeedbackTab=true&amp;Item=N82E16814202349#scrollFullInfo\" title=\"Rating + 4\"><i class=\"rating rating-4\"></i><span class=\"item-rating-num\">(171)</span></a></div><a class=\"item-title\" href=\"https://www.newegg.com/global/in-en/sapphire-radeon-rx-5700-xt-100416p8gl/p/N82E16814202349?Item=N82E16814202349\" title=\"View Details\">SAPPHIRE PULSE Radeon RX 5700 XT 100416P8GL Video Card</a><ul class=\"item-features\"><li><strong>Core Clock:</strong> 1670 MHz</li><li><strong>Max Resolution:</strong> HDMI: 4096 x 2160 @ 60 Hz\n",
       "DisplayPort1.4: 5120 x 2880 @ 60 Hz</li><li><strong>DisplayPort:</strong> 3 x DisplayPort 1.4</li><li><strong>HDMI:</strong> 1 x HDMI</li><li><strong>Model #: </strong>100416P8GL</li><li><strong>Item #: </strong>N82E16814202349</li><li><strong>Return Policy: </strong><a href=\"https://kb.newegg.com/Article/Index/12/3?id=1167#32074\" target=\"_blank\" title=\"International Order Return Policy(New Window)\">International Order Return Policy</a></li></ul></div><div class=\"item-action\"><ul class=\"price\"><li class=\"price-was\"></li><li class=\"price-map\"> </li><li class=\"price-current\">₹ 42,487<!-- --> <span class=\"price-current-range\"><abbr title=\"to\">–</abbr></span></li><li class=\"price-save\"></li><li class=\"price-note\"></li></ul><div class=\"item-operate hidden-action-button\"><div class=\"item-button-area\"><button class=\"btn btn-mini\" title=\"View Details \">View Details <i class=\"fas fa-caret-right\"></i></button></div><div class=\"item-compare-box\"><label class=\"form-checkbox\"><input autocomplete=\"off\" type=\"checkbox\"/><span class=\"form-checkbox-title\">Compare</span></label></div></div></div><div class=\"item-stock\" id=\"stock_14-202-349\"></div></div>"
      ]
     },
     "execution_count": 99,
     "metadata": {},
     "output_type": "execute_result"
    }
   ],
   "source": [
    "containers[0]"
   ]
  },
  {
   "cell_type": "code",
   "execution_count": 100,
   "metadata": {},
   "outputs": [],
   "source": [
    " container=containers[0]"
   ]
  },
  {
   "cell_type": "code",
   "execution_count": 103,
   "metadata": {},
   "outputs": [
    {
     "name": "stdout",
     "output_type": "stream",
     "text": [
      "brand:Sapphire Tech\n",
      "\n",
      "name :SAPPHIRE PULSE Radeon RX 5700 XT 100416P8GL 8GB 256-Bit GDDR6 PCI Express 4.0 x16 ATX Video Card\n",
      "\n",
      "price :₹ 42,487 –\n",
      "\n",
      "brand:Sapphire Tech\n",
      "\n",
      "name :SAPPHIRE NITRO+ Radeon RX 5700 XT 100416NT+8GSR 8GB 256-Bit GDDR6 PCI Express 4.0 x16 ATX Video Card\n",
      "\n",
      "price :₹ 46,720 –\n",
      "\n",
      "brand:GIGABYTE\n",
      "\n",
      "name :GIGABYTE Radeon RX 5600 XT DirectX 12 GV-R56XTGAMING OC-6GD rev. 2.0 6GB 192-Bit GDDR6 PCI Express 4.0 x16 ATX Video Card\n",
      "\n",
      "price :₹ 28,692 –\n",
      "\n",
      "brand:GIGABYTE\n",
      "\n",
      "name :GIGABYTE Radeon RX 580 GAMING 8G (rev. 2.0) Graphics Card, PCIe 3.0, 8GB 256-Bit GDDR5, GV-RX580GAMING-8GD REV2.0 Video Card\n",
      "\n",
      "price :₹ 19,237 –\n",
      "\n",
      "brand:GIGABYTE\n",
      "\n",
      "name :GIGABYTE Radeon RX 5700 XT GAMING OC 8G Graphics Card, PCIe 4.0, 8GB 256-Bit GDDR6, GV-R57XTGAMING OC-8GD Video Card\n",
      "\n",
      "price :₹ 39,730 –\n",
      "\n",
      "brand:XFX\n",
      "\n",
      "name :XFX Radeon RX 5700 XT DirectX 12 RX-57XT83LD8 8GB 256-Bit GDDR6 PCI Express 4.0 ATX Video Card\n",
      "\n",
      "price :₹ 39,299 (2 Offers)–\n",
      "\n",
      "brand:ASRock\n",
      "\n",
      "name :ASRock Phantom Gaming D Radeon RX 5700 XT 8G OC Video Card, RX5700XT PGD 8GO\n",
      "\n",
      "price :₹ 37,170 –\n",
      "\n",
      "brand:MSI\n",
      "\n",
      "name :MSI Radeon RX 5700 XT DirectX 12 RX 5700 XT MECH OC 8GB 256-Bit GDDR6 PCI Express 4.0 HDCP Ready Video Card\n",
      "\n",
      "price :₹ 38,163 (3 Offers)–\n",
      "\n",
      "brand:ASRock\n",
      "\n",
      "name :ASRock Phantom Gaming D Radeon RX 570 DirectX 12 RX570 4G 4GB 256-Bit GDDR5 PCI Express 3.0 x16 HDCP Ready Video Card\n",
      "\n",
      "price :₹ 14,375 –\n",
      "\n",
      "brand:ASRock\n",
      "\n",
      "name :ASRock Radeon RX 5700 XT DirectX 12 RX 5700 XT CHALLENGER D 8G OC 8GB 256-Bit GDDR6 PCI Express 4.0 HDCP Ready Video Card\n",
      "\n",
      "price :₹ 39,730 –\n",
      "\n",
      "brand:ASRock\n",
      "\n",
      "name :ASRock Radeon RX 5700 XT DirectX 12 RX 5700 XT TAICHI X 8G OC+ 8GB 256-Bit GDDR6 PCI Express 4.0 HDCP Ready Video Card\n",
      "\n",
      "price :₹ 40,557 –\n",
      "\n",
      "brand:PowerColor\n",
      "\n",
      "name :PowerColor RED DEVIL Radeon RX 5700 XT DirectX 12 AXRX 5700 XT 8GBD6-3DHE/OC 8GB 256-Bit GDDR6 PCI Express 4.0 CrossFireX Support ATX Video Card\n",
      "\n",
      "price :₹ 42,574 –\n",
      "\n"
     ]
    }
   ],
   "source": [
    "filename=\"products.csv\"\n",
    "f=open(filename,\"w\", encoding='utf-8')\n",
    "headers=\"brand, name, price \\n\"\n",
    "f.write(headers)\n",
    "\n",
    "for container in containers:\n",
    "    name=container.a.img['title']\n",
    "    brand=container.div.div.a.img['title']\n",
    "    price_cont=container.findAll(\"li\",{\"class\":\"price-current\"})\n",
    "    price=price_cont[0].text.strip()\n",
    "    \n",
    "    print(\"brand:\"+brand+\"\\n\")\n",
    "    print(\"name :\"+name+\"\\n\")\n",
    "    print(\"price :\"+price+\"\\n\")\n",
    "    \n",
    "    f.write(brand  + \" ,\" + name.replace(\",\",\"|\")+ \" ,\" + price.replace(\",\",\" \")+\"\\n\")\n",
    "    \n",
    "    \n",
    "f.close()"
   ]
  },
  {
   "cell_type": "code",
   "execution_count": null,
   "metadata": {},
   "outputs": [],
   "source": []
  }
 ],
 "metadata": {
  "kernelspec": {
   "display_name": "Python 3",
   "language": "python",
   "name": "python3"
  },
  "language_info": {
   "codemirror_mode": {
    "name": "ipython",
    "version": 3
   },
   "file_extension": ".py",
   "mimetype": "text/x-python",
   "name": "python",
   "nbconvert_exporter": "python",
   "pygments_lexer": "ipython3",
   "version": "3.7.1"
  }
 },
 "nbformat": 4,
 "nbformat_minor": 4
}
